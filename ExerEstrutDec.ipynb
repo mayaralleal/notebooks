{
  "cells": [
    {
      "cell_type": "markdown",
      "id": "84f379ad",
      "metadata": {
        "id": "84f379ad"
      },
      "source": [
        "# Exercícios - Estrutura de decisão `If/Else`"
      ]
    },
    {
      "cell_type": "markdown",
      "id": "9bb5319a",
      "metadata": {
        "id": "9bb5319a"
      },
      "source": [
        "Vamos supor a seguinte situação: escreva um algoritmo que realiza a soma de dois números e confira se o resultado dessa soma será maior ou igual a 50. Se for maior, deverá retornar o valor da soma e, caso a condição não seja atendida, o algoritmo deve encerrar sua execução."
      ]
    },
    {
      "cell_type": "code",
      "execution_count": null,
      "id": "392005a4",
      "metadata": {
        "id": "392005a4"
      },
      "outputs": [],
      "source": []
    },
    {
      "cell_type": "markdown",
      "id": "61632a30",
      "metadata": {
        "id": "61632a30"
      },
      "source": [
        "Escreva um algoritmo que realiza a soma de dois números e confira se o valor obtido como resultado dessa soma seja maior ou igual a 50, vamos definir que caso essa condição seja aceita, o valor da soma deverá ser somado com 2; caso o valor somado não seja maior ou igual a 50, o valor da soma deve ser subtraído por 10."
      ]
    },
    {
      "cell_type": "code",
      "execution_count": null,
      "id": "43d1bd72",
      "metadata": {
        "id": "43d1bd72"
      },
      "outputs": [],
      "source": []
    },
    {
      "cell_type": "markdown",
      "id": "ebb9044e",
      "metadata": {
        "id": "ebb9044e"
      },
      "source": [
        "Uma produtora de eventos vai oferecer descontos no ingresso de um evento baseado na idade do usuário, segundo os seguintes critérios: quem tem entre 0 e 11 anos (inclusive), desconto de 100%; de 12 anos e menor de 26 anos (inclusive), 50% de desconto; maior de 26 anos, não terá desconto. Escreva um algoritmo que, dado um valor de salário, calcule o novo valor após o aumento. Escreva um algoritmo que, dada a idade do usuário, informe o percentual de desconto."
      ]
    },
    {
      "cell_type": "code",
      "execution_count": null,
      "id": "892a8d89",
      "metadata": {
        "id": "892a8d89"
      },
      "outputs": [],
      "source": []
    },
    {
      "cell_type": "markdown",
      "id": "4f740a81",
      "metadata": {
        "id": "4f740a81"
      },
      "source": [
        "Uma empresa vai conceder um aumento diferenciado a seus funcionários, segundo os seguintes critérios: quem ganha entre 1000 e 2000 (inclusive), aumento de 18 %; entre 2000 e 4000 (inclusive) aumento de 15 % e acima de 4000 aumento de 10 %. Escreva um algoritmo que, dado um valor de salário, calcule o novo valor após o aumento."
      ]
    },
    {
      "cell_type": "code",
      "execution_count": null,
      "id": "7ab4e81e",
      "metadata": {
        "id": "7ab4e81e"
      },
      "outputs": [],
      "source": []
    },
    {
      "cell_type": "markdown",
      "id": "e1347300",
      "metadata": {
        "id": "e1347300"
      },
      "source": [
        "Sabendo que um triângulo é dito equilátero quando tem 3 lados iguais, isósceles quando tem 2 lados iguais e escaleno quando todos os lados têm tamanhos diferentes, escreva um algoritmo que receba os valores dos três lados de um triângulo e imprima se ele é equilátero, isósceles ou escaleno."
      ]
    },
    {
      "cell_type": "code",
      "execution_count": null,
      "id": "3bc25d37",
      "metadata": {
        "id": "3bc25d37"
      },
      "outputs": [],
      "source": []
    },
    {
      "cell_type": "markdown",
      "source": [
        "Uma fruteira está vendendo frutas com a seguinte tabela de preços:<br/>\n",
        "\n",
        "                           Até 5 Kg           Acima de 5 Kg\n",
        "     Morango         R$ 2,50 por Kg          R$ 2,20 por Kg\n",
        "     Maçã            R$ 1,80 por Kg          R$ 1,50 por Kg\n",
        "\n",
        "Se o cliente comprar mais de 8 Kg em frutas ou o valor total da compra ultrapassar R$ 25,00, receberá ainda um desconto de 10% sobre este total. Escreva um algoritmo para ler a quantidade (em Kg) de morangos e a quantidade (em Kg) de maças adquiridas e escreva o valor a ser pago pelo cliente."
      ],
      "metadata": {
        "id": "c7_C6dz8lIfe"
      },
      "id": "c7_C6dz8lIfe"
    },
    {
      "cell_type": "code",
      "source": [],
      "metadata": {
        "id": "8nkFW1pylpk5"
      },
      "id": "8nkFW1pylpk5",
      "execution_count": null,
      "outputs": []
    },
    {
      "cell_type": "markdown",
      "source": [
        "<a rel=\"license\" href=\"http://creativecommons.org/licenses/by/4.0/\"><img alt=\"Creative Commons License\" style=\"border-width:0\" src=\"https://i.creativecommons.org/l/by/4.0/88x31.png\" /></a><br />This work is licensed under a <a rel=\"license\" href=\"http://creativecommons.org/licenses/by/4.0/\">Creative Commons Attribution 4.0 International License</a>"
      ],
      "metadata": {
        "id": "67Z46iApmkMQ"
      },
      "id": "67Z46iApmkMQ"
    }
  ],
  "metadata": {
    "kernelspec": {
      "display_name": "Python 3 (ipykernel)",
      "language": "python",
      "name": "python3"
    },
    "language_info": {
      "codemirror_mode": {
        "name": "ipython",
        "version": 3
      },
      "file_extension": ".py",
      "mimetype": "text/x-python",
      "name": "python",
      "nbconvert_exporter": "python",
      "pygments_lexer": "ipython3",
      "version": "3.10.9"
    },
    "colab": {
      "provenance": []
    }
  },
  "nbformat": 4,
  "nbformat_minor": 5
}
