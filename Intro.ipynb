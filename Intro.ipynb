{
  "cells": [
    {
      "cell_type": "markdown",
      "source": [
        "# Introdução à Lógica de Programação 👨‍💻\n",
        "\n",
        "##  Módulo 0 - Variáveis, constantes e operadores aritméticos\n",
        "\n",
        "**Conteúdos:**\n",
        "* Conceitos de constantes e variáveis\n",
        "* Tipos de operadores de atribuição e aritméticos\n",
        "* Comandos de entrada e saída de dados\n",
        "\n",
        "**Ao final deste módulo, você será capaz de:**\n",
        "* Inicializar constantes e variáveis\n",
        "* Reconhecer o uso dos operadores de atribuição e aritméticos\n",
        "* Identificar e operar de forma correta os tipos de dados e suas relações\n",
        "* Construir expressões com operadores e precedência\n",
        "* Criar, reconhecer, interpretar e aplicar os algoritmos através dos comandos de entrada e saída (`input` e `print`)"
      ],
      "metadata": {
        "id": "nJG7UFWfllem"
      },
      "id": "nJG7UFWfllem"
    },
    {
      "cell_type": "markdown",
      "id": "50c25af8",
      "metadata": {
        "id": "50c25af8"
      },
      "source": [
        "### **CONSTANTES E VARIÁVEIS**\n",
        "\n",
        "#### **O que é uma constante?**\n",
        "\n",
        "**Você sabe o que é uma constante?**\n",
        "* Em programação, uma constante armazena um valor fixo, que **NÃO** mudará com o tempo de execução do programa. Ou seja, o valor será definido uma única vez e jamais será alterado durante a execução da aplicação;\n",
        "* Uma constante deve ser utilizada quando uma informação **NÃO** tem qualquer possibilidade de alteração, ou variação, no decorrer da execução do algoritmo (programa).\n",
        "\n",
        "> **Exemplos**: pi(π): 3.1415926 - Velocidade da luz no vácuo: 299 792 458 m/s\n",
        "\n",
        "#### **O que é uma variável?**\n",
        "\n",
        "* É uma entidade destinada a guardar uma informação;\n",
        "* Chama-se **variável**, pois o valor contido nesta varia com o tempo, ou seja, não é um valor fixo;\n",
        "* O conteúdo de uma variável pode ser alterado, consultado ou apagado quantas vezes forem necessárias no algoritmo;\n",
        "* Ao alterar o conteúdo de uma variável, a informação anterior é perdida. Ou seja, a variável armazena sempre a última informação recebida;\n",
        "* Em geral, uma variável possui três atributos: **nome, tipo de dado e a informação** por ela guardada.\n",
        "\n",
        "> Em **Python** possui os seguintes tipos básicos que veremos nesta aula: * **int:** Corresponde aos números inteiros. Ex: 10, -24. **float:** Corresponde aos números reais. Ex: 2.4142, 3.141592. **str ou string:** Corresponde a textos. Ex: \"Olá, turma\".\n",
        "\n",
        "> **⚠️Regras para nomeação de constantes e variáveis⚠️** Devem ser iniciadas sempre por uma letra; não devem conter caracteres especiais; não devem conter espaços em branco; não devem conter hífen entre os nomes (utilize underline).\n",
        "\n",
        "### **ATRIBUIÇÃO**\n",
        "\n",
        "Agora iremos falar sobre a atribuição de tais expressões às variáveis:\n",
        "\n",
        "-  Quando um computador executa um algoritmo, o mesmo precisa armazenar e manipular múltiplos valores;\n",
        "-  Esses valores são armazenados e acessados na memória do computador;\n",
        "-  As variáveis podem ser entendidas como \"caixas\" que podem guardar **um** valor;\n",
        "-  Cada vez que guardamos um valor novo na variável, apagamos o valor antigo;\n",
        "-  Para guardarmos um valor em uma variável usamos algum **comando de atribuição**;\n",
        "-  Como uma demonstração, iremos utilizar o sinal de igual **`=`** para definir atribuição de valores;\n",
        "-  Será estabelecido que a variável a ser atribuída irá se encontrar à esquerda do símbolo;\n",
        "-  A parte à direita será uma expressão;\n",
        "-  O resultado da expressão será calculado e posteriormente armazenado na variável.\n",
        "\n",
        "> ⚠️*O comando = do Python é o comando de atribuição. Ele associa a variável do lado esquerdo do comando com o objeto do lado direito do comando. Um objeto pode ter um nome associado com ele, mais de um nome ou nenhum nome.*"
      ]
    },
    {
      "cell_type": "code",
      "execution_count": null,
      "id": "35a46bbb",
      "metadata": {
        "id": "35a46bbb"
      },
      "outputs": [],
      "source": [
        "#### Atribuindo o valor 1 à variável teste\n",
        "teste = 999;"
      ]
    },
    {
      "cell_type": "markdown",
      "id": "20b1e728",
      "metadata": {
        "id": "20b1e728"
      },
      "source": [
        "### **OPERADORES**\n",
        "\n",
        "Comparando com a Matemática, as linguagens de programação oferecem um conjunto completo de operadores. Eles consistem em estruturas que permitem a execução de cálculos e comparações.\n",
        "\n",
        "* Operadores são símbolos que representam atribuições, cálculos e ordem dos dados;\n",
        "* As operações possuem uma ordem de prioridades (alguns cálculos são processados antes de outros);\n",
        "* Os operadores são utilizados nas expressões matemáticas, lógicas, relacionais e de atribuição.\n",
        "\n",
        "> A linguagem Python dispõe dos seguintes operadores aritméticos básicos: **+**: adição; **-**: subtração; **✱**: multiplicação; **/**: divisão; **%**: resto de uma divisão inteira; **//**: quociente de uma divisão; **✱✱**: exponenciação."
      ]
    },
    {
      "cell_type": "code",
      "execution_count": null,
      "id": "3aa94fc9",
      "metadata": {
        "id": "3aa94fc9"
      },
      "outputs": [],
      "source": [
        "###Operações matemáticas realizadas com os operações adição, subtração, multiplicação e divisão\n",
        "adicao = 3+5;\n",
        "subtracao = 10-7;\n",
        "multi = 4*6;\n",
        "div = 25/5;"
      ]
    },
    {
      "cell_type": "markdown",
      "id": "b02fe209",
      "metadata": {
        "id": "b02fe209"
      },
      "source": [
        "A ordem de prioridade das operações seguem como o usual:\n",
        "\n",
        "-  Primeiro as radiciações e potenciações (`**`);\n",
        "-  Depois, produtos e divisões (`*` e `/`);\n",
        "-  E, por último, somas e subtrações (`+` e `-`).\n",
        "\n",
        "A ordem de prioridade obedecem às regras matemáticas comuns:\n",
        "* As expressões de dentro de parênteses são sempre resolvidas antes das expressões fora dos parênteses;\n",
        "* Quando existe um parêntese dentro de outro, a solução sempre inicia do parêntese mais interno até o mais externo (de dentro para fora);\n",
        "* Quando duas ou mais expressões tiverem a mesma prioridade, a solução é sempre iniciada da expressão mais à esquerda até a mais à direita.\n",
        "\n",
        "Então, quando a expressão contiver parênteses, deve ser resolvida do mais interno ao mais externo. Por exemplo:\n",
        "\n",
        "A expressão `( 2 + 2 ) * 4` é equivalente à `16` <br>\n",
        "A expressão   `2 + 2 * 4` é equivalente à `10` <br>\n",
        "\n",
        "> ⚠️ A ordem de precedência desses operadores segue a mesma regra aplicada na Matemática, ou seja, a multiplicação e divisão têm precedência maior que a adição e a subtração. Isso significa que em uma expressão aritmética, as duas primeiras serão executadas antes das duas últimas. Para definir uma ordem de execução diferente, envolva as expressões desejadas com parênteses. Veja os exemplos a seguir:"
      ]
    },
    {
      "cell_type": "code",
      "execution_count": null,
      "id": "0c46025f",
      "metadata": {
        "id": "0c46025f"
      },
      "outputs": [],
      "source": [
        "5 + 4 * 3 - 8 / 2; #Precedência normal\n",
        "(5 + 4) * (3 - 8) / 2; #Precedência alterada"
      ]
    },
    {
      "cell_type": "markdown",
      "id": "667e543e",
      "metadata": {
        "id": "667e543e"
      },
      "source": [
        "No exemplo acima, as operações de multiplicação 4 * 3 e de divisão 8 / 2 são executadas em primeiro lugar, para só então serem executadas a adição e a subtração. Já no segundo caso, como a adição (5 + 4) e a subtração (3 – 8) foram envoltas em parênteses, elas serão executadas primeiro e depois virão a multiplicação e a divisão."
      ]
    },
    {
      "cell_type": "markdown",
      "source": [
        "**Exemplos:**\n",
        "\n",
        "Aqui estão representados 4 algoritmos distintos e independentes. Determine o valor da variável `x` no final de cada um deles. Escreva o valor que você acredita ser o correto na variável `sua_resposta` e aperte Ctrl + Enter; caso o resultado seja True, sua resposta está correta, no contrário está errada. Ignore as linhas em que o `==` está presente, ele não afetará no resultado e será explicado nas próximas aulas!"
      ],
      "metadata": {
        "id": "nozFjvf9_G_L"
      },
      "id": "nozFjvf9_G_L"
    },
    {
      "cell_type": "code",
      "source": [
        "#1\n",
        "#Tente descobrir o valor de x por linha, mas coloque apenas o valor final na variavel sua_resposta!\n",
        "\n",
        "x = 5\n",
        "x = 2 + 3 * 5\n",
        "x = ( 2 + 3 ) * 5\n",
        "\n",
        "sua_resposta = 25 #coloque sua resposta aqui!\n",
        "\n",
        "x==sua_resposta"
      ],
      "metadata": {
        "id": "gKCEvKxxxsy3"
      },
      "id": "gKCEvKxxxsy3",
      "execution_count": null,
      "outputs": []
    },
    {
      "cell_type": "code",
      "source": [
        "#2\n",
        "\n",
        "x = 5\n",
        "x = 2 * x\n",
        "\n",
        "sua_resposta = 0\n",
        "\n",
        "x==sua_resposta"
      ],
      "metadata": {
        "id": "g4KHUTUa_vPr"
      },
      "id": "g4KHUTUa_vPr",
      "execution_count": null,
      "outputs": []
    },
    {
      "cell_type": "code",
      "source": [
        "#3\n",
        "\n",
        "y = 6\n",
        "z = 8\n",
        "x = 2 * z + y\n",
        "\n",
        "sua_resposta = 0\n",
        "\n",
        "x==sua_resposta"
      ],
      "metadata": {
        "id": "y-atFUEA_zKm"
      },
      "id": "y-atFUEA_zKm",
      "execution_count": null,
      "outputs": []
    },
    {
      "cell_type": "code",
      "source": [
        "#4\n",
        "\n",
        "x = 6\n",
        "x = 1\n",
        "x = 3 * x\n",
        "\n",
        "sua_resposta = 0\n",
        "\n",
        "x==sua_resposta"
      ],
      "metadata": {
        "id": "j0KKll2hAJpX"
      },
      "id": "j0KKll2hAJpX",
      "execution_count": null,
      "outputs": []
    },
    {
      "cell_type": "markdown",
      "source": [
        "#### **Saída de dados: *print()***\n",
        "\n",
        "Para imprimir um texto na tela, utilizamos o comando **print()**."
      ],
      "metadata": {
        "id": "iW81upn2_mU2"
      },
      "id": "iW81upn2_mU2"
    },
    {
      "cell_type": "code",
      "source": [
        "# Imprimindo um texto na tela\n",
        "print (\"Olá, estamos usando cadernos digitais interativos\");\n",
        "# Imprimindo o valor da variável\n",
        "teste = 3;\n",
        "print (teste);"
      ],
      "metadata": {
        "id": "G72qd4wBx6fP"
      },
      "id": "G72qd4wBx6fP",
      "execution_count": null,
      "outputs": []
    },
    {
      "cell_type": "markdown",
      "id": "1c6417cf",
      "metadata": {
        "id": "1c6417cf"
      },
      "source": [
        "#### **Entrada de dados: *input()***\n",
        "\n",
        "* Realiza a leitura de dados a partir do teclado.\n",
        "* Aguarda que o usuário digite um valor e atribui o valor digitado a um objeto na memória.\n",
        "* Todos os dados lidos são do tipo *string.\n"
      ]
    },
    {
      "cell_type": "code",
      "execution_count": null,
      "id": "73b5a0c1",
      "metadata": {
        "id": "73b5a0c1"
      },
      "outputs": [],
      "source": [
        "nome = (input(\"Digite seu nome: \"));\n",
        "print (nome);"
      ]
    },
    {
      "cell_type": "markdown",
      "id": "f137593d",
      "metadata": {
        "id": "f137593d"
      },
      "source": [
        "Podemos converter uma *string* lida do teclado em um número inteiro usando a função *int()*."
      ]
    },
    {
      "cell_type": "code",
      "execution_count": null,
      "id": "584a0e63",
      "metadata": {
        "id": "584a0e63"
      },
      "outputs": [],
      "source": [
        "#Exemplo da conversão de uma string para inteiro\n",
        "n = int(input(\"Digite um valor: \"));\n",
        "print (n);"
      ]
    },
    {
      "cell_type": "markdown",
      "id": "9df6aec0",
      "metadata": {
        "id": "9df6aec0"
      },
      "source": [
        "### **Prática** 🖥️"
      ]
    },
    {
      "cell_type": "code",
      "execution_count": null,
      "id": "80fd5bdd",
      "metadata": {
        "id": "80fd5bdd"
      },
      "outputs": [],
      "source": [
        "# Atribua o valor 10 para constante x e 11 para constante y, realize a operação matemática soma e imprima o resultado na tela."
      ]
    },
    {
      "cell_type": "code",
      "execution_count": null,
      "id": "f6e0cccf",
      "metadata": {
        "id": "f6e0cccf"
      },
      "outputs": [],
      "source": [
        "# Faça um programa que leia dois números inteiros e calcule a diferença do primeiro pelo segundo."
      ]
    },
    {
      "cell_type": "code",
      "execution_count": null,
      "id": "524c1193",
      "metadata": {
        "id": "524c1193"
      },
      "outputs": [],
      "source": [
        "# Faça um programa que leia dois números inteiros e calcule a soma, subtração, mutiplicação e divisão do primeiro pelo segundo."
      ]
    },
    {
      "cell_type": "markdown",
      "source": [
        "<a rel=\"license\" href=\"http://creativecommons.org/licenses/by/4.0/\"><img alt=\"Creative Commons License\" style=\"border-width:0\" src=\"https://i.creativecommons.org/l/by/4.0/88x31.png\" /></a><br />This work is licensed under a <a rel=\"license\" href=\"http://creativecommons.org/licenses/by/4.0/\">Creative Commons Attribution 4.0 International License</a>"
      ],
      "metadata": {
        "id": "rTV-EfKccr7z"
      },
      "id": "rTV-EfKccr7z"
    }
  ],
  "metadata": {
    "kernelspec": {
      "display_name": "Python 3 (ipykernel)",
      "language": "python",
      "name": "python3"
    },
    "language_info": {
      "codemirror_mode": {
        "name": "ipython",
        "version": 3
      },
      "file_extension": ".py",
      "mimetype": "text/x-python",
      "name": "python",
      "nbconvert_exporter": "python",
      "pygments_lexer": "ipython3",
      "version": "3.10.9"
    },
    "colab": {
      "provenance": []
    }
  },
  "nbformat": 4,
  "nbformat_minor": 5
}