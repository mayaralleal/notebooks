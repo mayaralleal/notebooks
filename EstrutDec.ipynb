{
  "cells": [
    {
      "cell_type": "markdown",
      "id": "2e66abc5",
      "metadata": {
        "id": "2e66abc5"
      },
      "source": [
        "# Introdução à Lógica de Programação 👨‍💻\n",
        "\n",
        "##  Módulo 2 – Estrutura de Decisão\n",
        "\n",
        "**Conteúdos:**\n",
        "* Conceitos de Estruturas de Decisão\n",
        "* Funcionamento das Estruturas de Decisão If/Else\n",
        "\n",
        "**Ao final deste módulo, você será capaz de:**\n",
        "* Identificar a necessidade de utilizar Estruturas de Decisão\n",
        "* Utilizar as Estruturas de Decisão If/Else\n",
        "\n",
        "### ESTRUTURA DE DECISÃO\n",
        "\n",
        "Você sabe o que são estruturas de decisão, também conhecidas como estruturas condicionais?\n",
        "\n",
        "* São comandos que auxiliam no direcionamento da sequência de execução de um programa por meio da avaliação de **condições lógicas**;\n",
        "* Tem como função validar condições e comparar o resultado destas.\n",
        "\n",
        "> **Algoritmo condicional:** Permite a **escolha** de um grupo de **ações** a ser executado quando determinadas **condições**, representadas por expressões lógicas, são ou não satisfeitas.\n",
        "\n",
        "* Um comando condicional é aquele que permite decidir se um determinado bloco de comandos deve ou não ser executado, a partir do resultado de uma expressão relacional ou lógica.\n",
        "\n",
        "#### Para que servem?\n",
        "\n",
        "* Permitem alterar o **fluxo de execução** do algoritmo, de forma a selecionar qual parte deve ser executada;\n",
        "* Essa “decisão” de execução é tomada a partir de uma condição, que pode resultar apenas dois valores: **verdadeiro** ou **falso**;\n",
        "* Uma condição é representada por **expressões relacionais** ou **lógicas**.\n",
        "\n",
        "#### Expressões relacionais\n",
        "\n",
        "Expressões relacionais são aquelas que realizam uma comparação entre duas expressões e retornam:\n",
        "* False, se o resultado é falso.\n",
        "* True, se o resultado é verdadeiro.\n",
        "\n",
        "#### Operadores relacinais\n",
        "\n",
        "Os operadores relacionais da linguagem Python são:\n",
        "* **==** : igualdade\n",
        "* **!=** : diferente\n",
        "* **>** : maior que\n",
        "* **<** : menor que\n",
        "* **>=** : maior ou igual que\n",
        "* **<=** : menor ou igual que\n",
        "\n",
        "> ⚠️Uma expressão booleana é uma expressão que produz como resultado um valor booleano. Expressões relacionais produzem um resultado booleano, logo, são **expressões booleanas**. ⚠️\n",
        "\n",
        "#### Expressões lógicas\n",
        "\n",
        "* Expressões lógicas são aquelas que realizam uma operação lógica (**ou, e, não,** etc...) e retornam **True ou False** (como as expressões relacionais).\n",
        "\n",
        "* Na linguagem Python temos os seguintes operadores lógicos:\n",
        "* **and**: operador E\n",
        "* **or**: operador OU\n",
        "* **not**: operador NÃO\n",
        "\n",
        "* expressão **and** expressão : Retorna verdadeiro quando ambas as expressões são verdadeiras.\n",
        "* expressão **or** expressão : Retorna verdadeiro quando pelo menos uma das expressões é verdadeira.\n",
        "* **not** expressão : Retorna verdadeiro quando a expressão é falsa e vice-versa.\n",
        "\n",
        "\n",
        "#### Funcionamento ds estrutura de decisão\n",
        "\n",
        "* Após executar as funções de validação e comparação, as estruturas de seleção irão executar os blocos de comando, definidos de acordo com o resultado da comparação (**verdadeiro** ou **falso**).\n",
        "\n",
        "#### Tipos de estruturas de decisão\n",
        "\n",
        "* If/Else (Se/Então);\n",
        "* Switch/Case (Escolha/Caso)\n",
        "\n",
        "### ESTRUTURA DE DECISÃO IF/ELSE\n",
        "\n",
        "Tipos de estruturas IF/ELSE:\n",
        "* Simples;\n",
        "* Compostas;\n",
        "* Aninhadas.\n",
        "\n",
        "#### Estrutura de decisão simples\n",
        "\n",
        "**Como funciona?**\n",
        "* É um conjunto de instruções agrupadas.\n",
        "* Os comandos agrupados do bloco devem estar indentados dentro de um comando anterior seguido de dois pontos.\n",
        "* A indentação é feita em geral com 2 espaços em branco (ou quantos você quiser) antes de cada comando que deve estar dentro do bloco.\n",
        "* O principal comando condicional é o if, cuja sintaxe é:\n",
        "\n",
        " **if** expressão relacional ou lógica:\n",
        "\n",
        "   comandos executados se a expressão for verdadeira\n",
        "   \n",
        "* Os comandos são executados somente se a expressão relacional/lógica for verdadeira.\n",
        "\n",
        "O programa determina se um valor é par."
      ]
    },
    {
      "cell_type": "code",
      "execution_count": null,
      "id": "6ac0fa20",
      "metadata": {
        "id": "6ac0fa20"
      },
      "outputs": [],
      "source": [
        "# Informa se o número é par."
      ]
    },
    {
      "cell_type": "markdown",
      "id": "f0e75ee1",
      "metadata": {
        "id": "f0e75ee1"
      },
      "source": [
        "#### Estrutura de decisão composta\n",
        "\n",
        "* Uma variação do comando if é o if/else, cuja sintaxe é:\n",
        "\n",
        "**if** expressão relacional ou lógica:\n",
        "\n",
        "comandos executados se a expressão for verdadeira\n",
        "\n",
        "else:\n",
        "\n",
        "comandos executados se a expressão for falsa"
      ]
    },
    {
      "cell_type": "code",
      "execution_count": null,
      "id": "c6fc7ad1",
      "metadata": {
        "id": "c6fc7ad1"
      },
      "outputs": [],
      "source": [
        "#Faça um algoritmo que lê três notas, calcula a média e informa se o aluno está\n",
        "#aprovado ou não. O aluno estará aprovado se sua média for maior ou igual a 7."
      ]
    },
    {
      "cell_type": "code",
      "execution_count": null,
      "id": "20e5de86",
      "metadata": {
        "id": "20e5de86"
      },
      "outputs": [],
      "source": [
        "# Um programa que o usuário deve digitar um número entre 5 e 15. Se o\n",
        "# número não estiver nessa faixa, deve ser exibida a mensagem “FORA DO CONJUNTO”,\n",
        "#se o número atende a regra, mostre a mensagem “PERTENCE AO CONJUNTO”."
      ]
    },
    {
      "cell_type": "code",
      "execution_count": null,
      "id": "455cfdd7",
      "metadata": {
        "id": "455cfdd7"
      },
      "outputs": [],
      "source": [
        "# Informa se o número é par ou ímpar."
      ]
    },
    {
      "cell_type": "code",
      "execution_count": null,
      "id": "2bf3bf5a",
      "metadata": {
        "id": "2bf3bf5a"
      },
      "outputs": [],
      "source": [
        "# Faça um programa que leia dos números e determine o menor deles."
      ]
    },
    {
      "cell_type": "markdown",
      "id": "4c5dc5f1",
      "metadata": {
        "id": "4c5dc5f1"
      },
      "source": [
        "#### Estrutura de decisão aninhada\n",
        "\n",
        "* É utilizada, em geral, quando é necessário realizar várias comparações com a mesma variável;\n",
        "* É chamada de aninhada porque na sua representação fica uma seleção dentro de outra seleção;\n",
        "* Também é conhecida como seleção “encadeada”;\n",
        "* Permite fazer a escolha de apenas um entre vários comandos possíveis."
      ]
    },
    {
      "cell_type": "code",
      "execution_count": null,
      "id": "8f69ad77",
      "metadata": {
        "id": "8f69ad77"
      },
      "outputs": [],
      "source": [
        "#Usando apenas operadores relacionais e aritméticos, vamos escrever um programa que lê um número\n",
        "# e verifica em qual dos seguintes casos o número se enquadra:\n",
        "# Par e menor que 100\n",
        "# Par e maior ou igual a 100\n",
        "# Ímpar e menor que 100\n",
        "# Ímpar e maior ou igual a 100"
      ]
    },
    {
      "cell_type": "code",
      "execution_count": null,
      "id": "d5f3bea3",
      "metadata": {
        "id": "d5f3bea3"
      },
      "outputs": [],
      "source": [
        "# Escreva um programa que lê três números e imprime o maior deles."
      ]
    },
    {
      "cell_type": "code",
      "execution_count": null,
      "id": "5c24aee4",
      "metadata": {
        "id": "5c24aee4"
      },
      "outputs": [],
      "source": [
        "# Escreva um programa que lê três números distintos e os imprime em ordem decrescente."
      ]
    },
    {
      "cell_type": "code",
      "execution_count": null,
      "id": "a60e0e05",
      "metadata": {
        "id": "a60e0e05"
      },
      "outputs": [],
      "source": [
        "# Um o programa pede 3 notas do aluno. Se a média das notas for maior ou igual a 7,0 exibe\n",
        "# a mensagem “APROVADO”, caso contrário o programa solicita a nota da recuperação. Se a média\n",
        "# após a recuperação for maior ou igual a 5, exibe a mensagem “APROVADO APÓS A RECUPERAÇÃO”, caso contrário o\n",
        "# programa exibe a mensagem “REPROVADO”."
      ]
    },
    {
      "cell_type": "markdown",
      "source": [
        "<a rel=\"license\" href=\"http://creativecommons.org/licenses/by/4.0/\"><img alt=\"Creative Commons License\" style=\"border-width:0\" src=\"https://i.creativecommons.org/l/by/4.0/88x31.png\" /></a><br />This work is licensed under a <a rel=\"license\" href=\"http://creativecommons.org/licenses/by/4.0/\">Creative Commons Attribution 4.0 International License</a>"
      ],
      "metadata": {
        "id": "B5Vq6R6F3E_o"
      },
      "id": "B5Vq6R6F3E_o"
    }
  ],
  "metadata": {
    "kernelspec": {
      "display_name": "Python 3 (ipykernel)",
      "language": "python",
      "name": "python3"
    },
    "language_info": {
      "codemirror_mode": {
        "name": "ipython",
        "version": 3
      },
      "file_extension": ".py",
      "mimetype": "text/x-python",
      "name": "python",
      "nbconvert_exporter": "python",
      "pygments_lexer": "ipython3",
      "version": "3.10.9"
    },
    "colab": {
      "provenance": []
    }
  },
  "nbformat": 4,
  "nbformat_minor": 5
}