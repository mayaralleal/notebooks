{
  "cells": [
    {
      "cell_type": "markdown",
      "id": "84f379ad",
      "metadata": {
        "id": "84f379ad"
      },
      "source": [
        "# Exercícios - Estrutura sequencial"
      ]
    },
    {
      "cell_type": "markdown",
      "id": "e1347300",
      "metadata": {
        "id": "e1347300"
      },
      "source": [
        "Faça um algoritmo para calcular a área de uma circunferência, considerando a fórmula ÁREA = π * RAIO². Utilize as variáveis AREA e RAIO, a constante π (pi = 3,14159) e os operadores aritméticos de multiplicação."
      ]
    },
    {
      "cell_type": "code",
      "execution_count": null,
      "id": "392005a4",
      "metadata": {
        "id": "392005a4"
      },
      "outputs": [],
      "source": []
    },
    {
      "cell_type": "markdown",
      "id": "4f740a81",
      "metadata": {
        "id": "4f740a81"
      },
      "source": [
        "Faça um algoritmo que calcule a área de um triângulo, considerando a fórmula AREA = (BASExALTURA)/2. Utilize as variáveis AREA, BASE e ALTURA e os operadores aritméticos de multiplicação e divisão."
      ]
    },
    {
      "cell_type": "code",
      "execution_count": null,
      "id": "892a8d89",
      "metadata": {
        "id": "892a8d89"
      },
      "outputs": [],
      "source": []
    },
    {
      "cell_type": "markdown",
      "id": "ebb9044e",
      "metadata": {
        "id": "ebb9044e"
      },
      "source": [
        "Calcule a área de um retângulo. A área de uma figura geométrica retangular é calculada pela fórmula área = largura x altura."
      ]
    },
    {
      "cell_type": "code",
      "execution_count": null,
      "id": "7ab4e81e",
      "metadata": {
        "id": "7ab4e81e"
      },
      "outputs": [],
      "source": []
    },
    {
      "cell_type": "markdown",
      "id": "9bb5319a",
      "metadata": {
        "id": "9bb5319a"
      },
      "source": [
        "Faça um algoritmo que leia uma temperatura em graus Celsius e apresente-a convertida em graus Fahrenheit. A fórmula de conversão é: F = (9 * C + 160) / 5, na qual F é a temperatura em Fahrenheit e C é a temperatura em Celsius."
      ]
    },
    {
      "cell_type": "code",
      "execution_count": null,
      "id": "43d1bd72",
      "metadata": {
        "id": "43d1bd72"
      },
      "outputs": [],
      "source": []
    },
    {
      "cell_type": "markdown",
      "id": "61632a30",
      "metadata": {
        "id": "61632a30"
      },
      "source": [
        "Faça um algoritmo que calcule e apresente o valor do volume de uma lata de óleo, utilizando a fórmula VOLUME = 3,14159 * RAIO² * ALTURA."
      ]
    },
    {
      "cell_type": "code",
      "execution_count": null,
      "id": "3bc25d37",
      "metadata": {
        "id": "3bc25d37"
      },
      "outputs": [],
      "source": []
    },
    {
      "cell_type": "markdown",
      "id": "38fa0d40",
      "metadata": {
        "id": "38fa0d40"
      },
      "source": [
        "Faça um programa que leia em horas e defina a quantidade de minutos."
      ]
    },
    {
      "cell_type": "code",
      "execution_count": null,
      "id": "1045035a",
      "metadata": {
        "id": "1045035a"
      },
      "outputs": [],
      "source": []
    },
    {
      "cell_type": "markdown",
      "source": [
        "<a rel=\"license\" href=\"http://creativecommons.org/licenses/by/4.0/\"><img alt=\"Creative Commons License\" style=\"border-width:0\" src=\"https://i.creativecommons.org/l/by/4.0/88x31.png\" /></a><br />This work is licensed under a <a rel=\"license\" href=\"http://creativecommons.org/licenses/by/4.0/\">Creative Commons Attribution 4.0 International License</a>"
      ],
      "metadata": {
        "id": "c-LTzcAhmXXY"
      },
      "id": "c-LTzcAhmXXY"
    }
  ],
  "metadata": {
    "kernelspec": {
      "display_name": "Python 3 (ipykernel)",
      "language": "python",
      "name": "python3"
    },
    "language_info": {
      "codemirror_mode": {
        "name": "ipython",
        "version": 3
      },
      "file_extension": ".py",
      "mimetype": "text/x-python",
      "name": "python",
      "nbconvert_exporter": "python",
      "pygments_lexer": "ipython3",
      "version": "3.10.9"
    },
    "colab": {
      "provenance": []
    }
  },
  "nbformat": 4,
  "nbformat_minor": 5
}